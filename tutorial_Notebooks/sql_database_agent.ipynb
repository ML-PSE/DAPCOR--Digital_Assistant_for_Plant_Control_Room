{
 "cells": [
  {
   "cell_type": "markdown",
   "metadata": {},
   "source": [
    "# Automate SQL Database Queries with LLM"
   ]
  },
  {
   "cell_type": "markdown",
   "metadata": {
    "vscode": {
     "languageId": "bat"
    }
   },
   "source": [
    "# Table of Contents\n",
    "\n",
    "1. [Introduction](#introduction)\n",
    "2. [Load Libraries](#load-libraries)\n",
    "3. [Setup AI and Logging](#setup-ai-and-logging)\n",
    "4. [Connect to a SQL Database](#connect-to-a-sql-database)\n",
    "5. [Create The Agent](#create-the-agent)\n",
    "6. [Run the Agent](#run-the-agent)\n",
    "7. [Response](#response)\n",
    "    1. [SQL Query Code](#sql-query-code)\n",
    "    2. [Pandas Data Frame From SQL Query](#pandas-data-frame-from-sql-query)\n",
    "    3. [Python Pipeline Function](#python-pipeline-function)\n",
    "    4. [Storage Location](#storage-location)"
   ]
  },
  {
   "cell_type": "markdown",
   "metadata": {},
   "source": [
    "### Load Libraries"
   ]
  },
  {
   "cell_type": "code",
   "execution_count": 18,
   "metadata": {},
   "outputs": [],
   "source": [
    "import sys\n",
    "sys.path.append('..')"
   ]
  },
  {
   "cell_type": "code",
   "execution_count": 19,
   "metadata": {},
   "outputs": [],
   "source": [
    "# * Libraries\n",
    "import pandas as pd, sqlalchemy as sql, os\n",
    "from pprint import pprint\n",
    "\n",
    "from langchain_openai import ChatOpenAI\n",
    "from DAPCOR.agents import SQLDatabaseAgent"
   ]
  },
  {
   "cell_type": "markdown",
   "metadata": {},
   "source": [
    "### Setup AI and Logging\n",
    "\n",
    "This section of code sets up the LLM inputs and the logging information. Logging is used to store AI-generated code and files. \n",
    "\n",
    "*Important Note:* This example uses OpenAI's API. But any LLM can be used such as Anthropic or local LLMs with Ollama."
   ]
  },
  {
   "cell_type": "code",
   "execution_count": 20,
   "metadata": {},
   "outputs": [
    {
     "data": {
      "text/plain": [
       "ChatOpenAI(client=<openai.resources.chat.completions.Completions object at 0x00000146274DA6C0>, async_client=<openai.resources.chat.completions.AsyncCompletions object at 0x00000146274CD670>, root_client=<openai.OpenAI object at 0x00000146274CC110>, root_async_client=<openai.AsyncOpenAI object at 0x00000146274CC260>, model_name='gpt-4o-mini', model_kwargs={}, openai_api_key=SecretStr('**********'))"
      ]
     },
     "execution_count": 20,
     "metadata": {},
     "output_type": "execute_result"
    }
   ],
   "source": [
    "# load API and create llm object\n",
    "MODEL = \"gpt-4o-mini\"\n",
    "os.environ[\"OPENAI_API_KEY\"] = os.getenv(\"OPENAI_API_KEY\")\n",
    "\n",
    "llm = ChatOpenAI(model = MODEL)\n",
    "llm"
   ]
  },
  {
   "cell_type": "markdown",
   "metadata": {},
   "source": [
    "### Connect to a SQL Database\n",
    "\n",
    "Next, let's connect to the FCCU SQL database. We will need to use a `sqlalchemy` connection to use the SQL Database Agent."
   ]
  },
  {
   "cell_type": "code",
   "execution_count": 21,
   "metadata": {},
   "outputs": [],
   "source": [
    "# Create the engine with the correct path\n",
    "db_path = os.path.join(\"..\", \"data\", \"FCCU.db\")\n",
    "sql_engine = sql.create_engine(f\"sqlite:///{db_path}\")\n",
    "conn = sql_engine.connect()"
   ]
  },
  {
   "cell_type": "code",
   "execution_count": 22,
   "metadata": {},
   "outputs": [
    {
     "data": {
      "text/html": [
       "<div>\n",
       "<style scoped>\n",
       "    .dataframe tbody tr th:only-of-type {\n",
       "        vertical-align: middle;\n",
       "    }\n",
       "\n",
       "    .dataframe tbody tr th {\n",
       "        vertical-align: top;\n",
       "    }\n",
       "\n",
       "    .dataframe thead th {\n",
       "        text-align: right;\n",
       "    }\n",
       "</style>\n",
       "<table border=\"1\" class=\"dataframe\">\n",
       "  <thead>\n",
       "    <tr style=\"text-align: right;\">\n",
       "      <th></th>\n",
       "      <th>name</th>\n",
       "    </tr>\n",
       "  </thead>\n",
       "  <tbody>\n",
       "    <tr>\n",
       "      <th>0</th>\n",
       "      <td>historical_data</td>\n",
       "    </tr>\n",
       "  </tbody>\n",
       "</table>\n",
       "</div>"
      ],
      "text/plain": [
       "              name\n",
       "0  historical_data"
      ]
     },
     "execution_count": 22,
     "metadata": {},
     "output_type": "execute_result"
    }
   ],
   "source": [
    "# manually check tables in the database\n",
    "sql_query = \"SELECT name FROM sqlite_master WHERE type='table';\"\n",
    "pd.read_sql(sql_query, conn)"
   ]
  },
  {
   "cell_type": "code",
   "execution_count": 23,
   "metadata": {},
   "outputs": [
    {
     "data": {
      "text/html": [
       "<div>\n",
       "<style scoped>\n",
       "    .dataframe tbody tr th:only-of-type {\n",
       "        vertical-align: middle;\n",
       "    }\n",
       "\n",
       "    .dataframe tbody tr th {\n",
       "        vertical-align: top;\n",
       "    }\n",
       "\n",
       "    .dataframe thead th {\n",
       "        text-align: right;\n",
       "    }\n",
       "</style>\n",
       "<table border=\"1\" class=\"dataframe\">\n",
       "  <thead>\n",
       "    <tr style=\"text-align: right;\">\n",
       "      <th></th>\n",
       "      <th>timestamp</th>\n",
       "      <th>Fresh feed flow</th>\n",
       "      <th>Ambient temperature</th>\n",
       "      <th>Feed temperature</th>\n",
       "      <th>Reactor pressure</th>\n",
       "      <th>Regenerator pressure</th>\n",
       "      <th>Furnace temperature</th>\n",
       "      <th>Reactor feed temperature</th>\n",
       "      <th>Regenerator temperature</th>\n",
       "      <th>Catalyst level</th>\n",
       "      <th>...</th>\n",
       "      <th>Reactor temperature controller valve opening</th>\n",
       "      <th>Ampearage combustion air blower</th>\n",
       "      <th>Ampearage wet gas blower</th>\n",
       "      <th>Furnace fuel flowrate</th>\n",
       "      <th>Combustion air flowrate</th>\n",
       "      <th>LPG flowrate</th>\n",
       "      <th>Light cycle oil flowrate</th>\n",
       "      <th>Reflux flowrate</th>\n",
       "      <th>Overhead fractionator temperature</th>\n",
       "      <th>Fractionator temperature controller valve opening</th>\n",
       "    </tr>\n",
       "  </thead>\n",
       "  <tbody>\n",
       "    <tr>\n",
       "      <th>0</th>\n",
       "      <td>2025-01-01 00:00:00</td>\n",
       "      <td>165.00</td>\n",
       "      <td>75.014</td>\n",
       "      <td>460.90</td>\n",
       "      <td>34.4</td>\n",
       "      <td>28.0</td>\n",
       "      <td>1564.1</td>\n",
       "      <td>616.00</td>\n",
       "      <td>1250.0</td>\n",
       "      <td>29.684</td>\n",
       "      <td>...</td>\n",
       "      <td>45.302</td>\n",
       "      <td>277.72</td>\n",
       "      <td>198.71</td>\n",
       "      <td>1990.5</td>\n",
       "      <td>3734.7</td>\n",
       "      <td>2933.9</td>\n",
       "      <td>1643.4</td>\n",
       "      <td>2945.5</td>\n",
       "      <td>310.71</td>\n",
       "      <td>49.530</td>\n",
       "    </tr>\n",
       "    <tr>\n",
       "      <th>1</th>\n",
       "      <td>2025-01-01 00:01:00</td>\n",
       "      <td>165.06</td>\n",
       "      <td>75.043</td>\n",
       "      <td>460.75</td>\n",
       "      <td>34.4</td>\n",
       "      <td>28.0</td>\n",
       "      <td>1565.3</td>\n",
       "      <td>615.99</td>\n",
       "      <td>1250.0</td>\n",
       "      <td>29.673</td>\n",
       "      <td>...</td>\n",
       "      <td>45.312</td>\n",
       "      <td>277.75</td>\n",
       "      <td>198.75</td>\n",
       "      <td>1993.6</td>\n",
       "      <td>3734.8</td>\n",
       "      <td>2934.7</td>\n",
       "      <td>1643.3</td>\n",
       "      <td>2945.8</td>\n",
       "      <td>310.72</td>\n",
       "      <td>49.532</td>\n",
       "    </tr>\n",
       "    <tr>\n",
       "      <th>2</th>\n",
       "      <td>2025-01-01 00:02:00</td>\n",
       "      <td>165.02</td>\n",
       "      <td>75.045</td>\n",
       "      <td>460.88</td>\n",
       "      <td>34.4</td>\n",
       "      <td>28.0</td>\n",
       "      <td>1564.3</td>\n",
       "      <td>616.00</td>\n",
       "      <td>1250.0</td>\n",
       "      <td>29.679</td>\n",
       "      <td>...</td>\n",
       "      <td>45.306</td>\n",
       "      <td>277.76</td>\n",
       "      <td>198.76</td>\n",
       "      <td>1991.1</td>\n",
       "      <td>3734.9</td>\n",
       "      <td>2934.8</td>\n",
       "      <td>1643.3</td>\n",
       "      <td>2946.0</td>\n",
       "      <td>310.73</td>\n",
       "      <td>49.535</td>\n",
       "    </tr>\n",
       "    <tr>\n",
       "      <th>3</th>\n",
       "      <td>2025-01-01 00:03:00</td>\n",
       "      <td>164.96</td>\n",
       "      <td>75.044</td>\n",
       "      <td>460.77</td>\n",
       "      <td>34.4</td>\n",
       "      <td>28.0</td>\n",
       "      <td>1564.6</td>\n",
       "      <td>616.00</td>\n",
       "      <td>1250.0</td>\n",
       "      <td>29.688</td>\n",
       "      <td>...</td>\n",
       "      <td>45.298</td>\n",
       "      <td>277.76</td>\n",
       "      <td>198.76</td>\n",
       "      <td>1991.8</td>\n",
       "      <td>3734.8</td>\n",
       "      <td>2934.8</td>\n",
       "      <td>1643.3</td>\n",
       "      <td>2946.1</td>\n",
       "      <td>310.73</td>\n",
       "      <td>49.536</td>\n",
       "    </tr>\n",
       "    <tr>\n",
       "      <th>4</th>\n",
       "      <td>2025-01-01 00:04:00</td>\n",
       "      <td>164.92</td>\n",
       "      <td>75.049</td>\n",
       "      <td>460.84</td>\n",
       "      <td>34.4</td>\n",
       "      <td>28.0</td>\n",
       "      <td>1563.9</td>\n",
       "      <td>616.00</td>\n",
       "      <td>1250.0</td>\n",
       "      <td>29.696</td>\n",
       "      <td>...</td>\n",
       "      <td>45.291</td>\n",
       "      <td>277.75</td>\n",
       "      <td>198.77</td>\n",
       "      <td>1990.2</td>\n",
       "      <td>3734.5</td>\n",
       "      <td>2934.9</td>\n",
       "      <td>1643.3</td>\n",
       "      <td>2946.1</td>\n",
       "      <td>310.74</td>\n",
       "      <td>49.536</td>\n",
       "    </tr>\n",
       "  </tbody>\n",
       "</table>\n",
       "<p>5 rows × 24 columns</p>\n",
       "</div>"
      ],
      "text/plain": [
       "             timestamp  Fresh feed flow  Ambient temperature  \\\n",
       "0  2025-01-01 00:00:00           165.00               75.014   \n",
       "1  2025-01-01 00:01:00           165.06               75.043   \n",
       "2  2025-01-01 00:02:00           165.02               75.045   \n",
       "3  2025-01-01 00:03:00           164.96               75.044   \n",
       "4  2025-01-01 00:04:00           164.92               75.049   \n",
       "\n",
       "   Feed temperature  Reactor pressure  Regenerator pressure  \\\n",
       "0            460.90              34.4                  28.0   \n",
       "1            460.75              34.4                  28.0   \n",
       "2            460.88              34.4                  28.0   \n",
       "3            460.77              34.4                  28.0   \n",
       "4            460.84              34.4                  28.0   \n",
       "\n",
       "   Furnace temperature  Reactor feed temperature  Regenerator temperature  \\\n",
       "0               1564.1                    616.00                   1250.0   \n",
       "1               1565.3                    615.99                   1250.0   \n",
       "2               1564.3                    616.00                   1250.0   \n",
       "3               1564.6                    616.00                   1250.0   \n",
       "4               1563.9                    616.00                   1250.0   \n",
       "\n",
       "   Catalyst level  ...  Reactor temperature controller valve opening  \\\n",
       "0          29.684  ...                                        45.302   \n",
       "1          29.673  ...                                        45.312   \n",
       "2          29.679  ...                                        45.306   \n",
       "3          29.688  ...                                        45.298   \n",
       "4          29.696  ...                                        45.291   \n",
       "\n",
       "   Ampearage combustion air blower  Ampearage wet gas blower  \\\n",
       "0                           277.72                    198.71   \n",
       "1                           277.75                    198.75   \n",
       "2                           277.76                    198.76   \n",
       "3                           277.76                    198.76   \n",
       "4                           277.75                    198.77   \n",
       "\n",
       "   Furnace fuel flowrate  Combustion air flowrate  LPG flowrate  \\\n",
       "0                 1990.5                   3734.7        2933.9   \n",
       "1                 1993.6                   3734.8        2934.7   \n",
       "2                 1991.1                   3734.9        2934.8   \n",
       "3                 1991.8                   3734.8        2934.8   \n",
       "4                 1990.2                   3734.5        2934.9   \n",
       "\n",
       "   Light cycle oil flowrate  Reflux flowrate  \\\n",
       "0                    1643.4           2945.5   \n",
       "1                    1643.3           2945.8   \n",
       "2                    1643.3           2946.0   \n",
       "3                    1643.3           2946.1   \n",
       "4                    1643.3           2946.1   \n",
       "\n",
       "   Overhead fractionator temperature  \\\n",
       "0                             310.71   \n",
       "1                             310.72   \n",
       "2                             310.73   \n",
       "3                             310.73   \n",
       "4                             310.74   \n",
       "\n",
       "   Fractionator temperature controller valve opening  \n",
       "0                                             49.530  \n",
       "1                                             49.532  \n",
       "2                                             49.535  \n",
       "3                                             49.536  \n",
       "4                                             49.536  \n",
       "\n",
       "[5 rows x 24 columns]"
      ]
     },
     "execution_count": 23,
     "metadata": {},
     "output_type": "execute_result"
    }
   ],
   "source": [
    "# manually read data from the historical_data table\n",
    "sql_query = \"SELECT * FROM historical_data;\"\n",
    "historical_data = pd.read_sql(sql_query, conn)\n",
    "historical_data.head()"
   ]
  },
  {
   "cell_type": "markdown",
   "metadata": {},
   "source": [
    "### Create The Agent\n",
    "\n",
    "Run this code to create the agent with `SQLDatabaseAgent()`.\n",
    "\n",
    "The only required parameters are `model` and `connection`. \n",
    "\n",
    "- `model` is the LLM model that you want to use.\n",
    "- `connection` is the sqlalchemy connection to the SQL database.\n",
    "\n",
    "Other parameters included in this demo are:\n",
    "\n",
    "- `n_samples`: The number of samples for each table x column to share with the LLM. Reduce this number for large databases to prevent LLM Max Token errors.\n",
    "- `log`: Set up logging the SQL DB agent's pipeline function\n",
    "- `log_path`: The directory to save the SQL DB agent's pipeline function\n",
    "- `bypass_explain_code`: Dynamically bypass the explain code step in the LangGraph DAG. This is useful to speed up response time when you don't need to see the explain code.\n",
    "- `bypass_recommended_steps`: Dynamically bypass the recommended steps in the LangGraph DAG. This is useful to speed up response time when you don't need to see the recommended steps."
   ]
  },
  {
   "cell_type": "code",
   "execution_count": 24,
   "metadata": {},
   "outputs": [
    {
     "data": {
      "image/png": "[encoded data removed]",
      "text/plain": [
       "<DAPCOR.agents.sql_database_agent.SQLDatabaseAgent object at 0x00000146274CE5A0>"
      ]
     },
     "execution_count": 24,
     "metadata": {},
     "output_type": "execute_result"
    }
   ],
   "source": [
    "# Make the agent\n",
    "LOG      = True\n",
    "LOG_PATH = os.path.join(\"..\", \"logs/\")\n",
    "\n",
    "sql_agent = SQLDatabaseAgent(\n",
    "    model = llm, \n",
    "    connection=conn, \n",
    "    n_samples=1, # Needed for large databases to avoid token limits\n",
    "    log=LOG, \n",
    "    log_path=LOG_PATH,\n",
    "    bypass_explain_code=False,\n",
    "    bypass_recommended_steps=True,\n",
    ")\n",
    "\n",
    "sql_agent"
   ]
  },
  {
   "cell_type": "markdown",
   "metadata": {},
   "source": [
    "## Run the Agent"
   ]
  },
  {
   "cell_type": "markdown",
   "metadata": {},
   "source": [
    "The main inputs to the SQL DB Agent are:\n",
    "\n",
    "- **user_instructions**: What actions you'd like to take on the SQL database query. \n",
    "- **max_retries**: Used to limit the number of attempts to fix the SQL and Python code generated by the agent. Set this to 3 to limit to 3 attempts. \n",
    "- **retry_count**: Set this to 0. "
   ]
  },
  {
   "cell_type": "code",
   "execution_count": 25,
   "metadata": {},
   "outputs": [
    {
     "name": "stdout",
     "output_type": "stream",
     "text": [
      "---SQL DATABASE AGENT----\n",
      "    * CREATE SQL QUERY CODE\n",
      "    * CREATE PYTHON FUNCTION TO RUN SQL CODE\n",
      "      File saved to: ..\\logs/sql_database.py\n",
      "    * EXECUTING AGENT CODE ON SQL CONNECTION\n",
      "    * GENERATE USER ANSWER\n"
     ]
    }
   ],
   "source": [
    "sql_agent.invoke_agent(\n",
    "    # user_instructions=\"What is the daily average of the fresh feed flow and furnace temperature?\",\n",
    "    user_instructions=\"What is the maximum furnace temperature?\",\n",
    "    max_retries=3,\n",
    "    retry_count=0,\n",
    ")"
   ]
  },
  {
   "cell_type": "markdown",
   "metadata": {},
   "source": [
    "### Response\n",
    "\n",
    "The response produced contains everything we need to understand the data cleaning decisions made and get the cleaned dataset. "
   ]
  },
  {
   "cell_type": "code",
   "execution_count": 26,
   "metadata": {},
   "outputs": [
    {
     "data": {
      "text/plain": [
       "['messages',\n",
       " 'user_instructions',\n",
       " 'data_sql',\n",
       " 'user_answer',\n",
       " 'all_sql_database_summary',\n",
       " 'sql_query_code',\n",
       " 'sql_database_function',\n",
       " 'sql_database_function_path',\n",
       " 'sql_database_function_file_name',\n",
       " 'sql_database_function_name',\n",
       " 'sql_database_error',\n",
       " 'max_retries',\n",
       " 'retry_count']"
      ]
     },
     "execution_count": 26,
     "metadata": {},
     "output_type": "execute_result"
    }
   ],
   "source": [
    "response = sql_agent.get_response()\n",
    "list(response.keys())"
   ]
  },
  {
   "cell_type": "code",
   "execution_count": 27,
   "metadata": {},
   "outputs": [
    {
     "data": {
      "text/plain": [
       "'The maximum furnace temperature is 1593.2 degrees.'"
      ]
     },
     "execution_count": 27,
     "metadata": {},
     "output_type": "execute_result"
    }
   ],
   "source": [
    "sql_agent.response[\"user_answer\"]"
   ]
  },
  {
   "cell_type": "markdown",
   "metadata": {},
   "source": [
    "#### SQL Query Code"
   ]
  },
  {
   "cell_type": "code",
   "execution_count": 28,
   "metadata": {},
   "outputs": [
    {
     "data": {
      "text/markdown": [
       "```sql\n",
       "SELECT MAX(\"Furnace temperature\") AS max_furnace_temperature\n",
       "FROM historical_data;\n",
       "```"
      ],
      "text/plain": [
       "<IPython.core.display.Markdown object>"
      ]
     },
     "execution_count": 28,
     "metadata": {},
     "output_type": "execute_result"
    }
   ],
   "source": [
    "sql_agent.get_sql_query_code(markdown=True)"
   ]
  },
  {
   "cell_type": "markdown",
   "metadata": {},
   "source": [
    "#### Pandas Data Frame From SQL Query"
   ]
  },
  {
   "cell_type": "code",
   "execution_count": 29,
   "metadata": {},
   "outputs": [
    {
     "data": {
      "text/html": [
       "<div>\n",
       "<style scoped>\n",
       "    .dataframe tbody tr th:only-of-type {\n",
       "        vertical-align: middle;\n",
       "    }\n",
       "\n",
       "    .dataframe tbody tr th {\n",
       "        vertical-align: top;\n",
       "    }\n",
       "\n",
       "    .dataframe thead th {\n",
       "        text-align: right;\n",
       "    }\n",
       "</style>\n",
       "<table border=\"1\" class=\"dataframe\">\n",
       "  <thead>\n",
       "    <tr style=\"text-align: right;\">\n",
       "      <th></th>\n",
       "      <th>max_furnace_temperature</th>\n",
       "    </tr>\n",
       "  </thead>\n",
       "  <tbody>\n",
       "    <tr>\n",
       "      <th>0</th>\n",
       "      <td>1593.2</td>\n",
       "    </tr>\n",
       "  </tbody>\n",
       "</table>\n",
       "</div>"
      ],
      "text/plain": [
       "   max_furnace_temperature\n",
       "0                   1593.2"
      ]
     },
     "execution_count": 29,
     "metadata": {},
     "output_type": "execute_result"
    }
   ],
   "source": [
    "sql_agent.get_data_sql()"
   ]
  },
  {
   "cell_type": "markdown",
   "metadata": {},
   "source": [
    "#### Python Pipeline Function"
   ]
  },
  {
   "cell_type": "code",
   "execution_count": 30,
   "metadata": {},
   "outputs": [
    {
     "data": {
      "text/markdown": [
       "```python\n",
       "# Disclaimer: This function was generated by AI. Please review before using.\n",
       "# Agent Name: sql_database_agent\n",
       "# Time Created: 2025-02-02 00:56:19\n",
       "\n",
       "\n",
       "def sql_database_pipeline(connection):\n",
       "    import pandas as pd\n",
       "    import sqlalchemy as sql\n",
       "    \n",
       "    # Create a connection if needed\n",
       "    is_engine = isinstance(connection, sql.engine.base.Engine)\n",
       "    conn = connection.connect() if is_engine else connection\n",
       "\n",
       "    sql_query = '''\n",
       "    SELECT MAX(\"Furnace temperature\") AS max_furnace_temperature\n",
       "FROM historical_data;\n",
       "    '''\n",
       "    \n",
       "    return pd.read_sql(sql_query, connection)\n",
       "    \n",
       "```"
      ],
      "text/plain": [
       "<IPython.core.display.Markdown object>"
      ]
     },
     "execution_count": 30,
     "metadata": {},
     "output_type": "execute_result"
    }
   ],
   "source": [
    "sql_agent.get_sql_database_function(markdown=True)"
   ]
  }
 ],
 "metadata": {
  "kernelspec": {
   "display_name": ".venv",
   "language": "python",
   "name": "python3"
  },
  "language_info": {
   "codemirror_mode": {
    "name": "ipython",
    "version": 3
   },
   "file_extension": ".py",
   "mimetype": "text/x-python",
   "name": "python",
   "nbconvert_exporter": "python",
   "pygments_lexer": "ipython3",
   "version": "3.12.7"
  }
 },
 "nbformat": 4,
 "nbformat_minor": 2
}
